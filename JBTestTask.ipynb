{
  "nbformat": 4,
  "nbformat_minor": 0,
  "metadata": {
    "colab": {
      "name": "JBTestTask.ipynb",
      "provenance": [],
      "collapsed_sections": []
    },
    "kernelspec": {
      "name": "python3",
      "display_name": "Python 3"
    },
    "accelerator": "GPU"
  },
  "cells": [
    {
      "cell_type": "code",
      "metadata": {
        "id": "unuKJDIO5gHV",
        "colab": {
          "base_uri": "https://localhost:8080/"
        },
        "outputId": "b07ed793-eaa4-4ec9-d6c4-0c2da9b1de1d"
      },
      "source": [
        "!pip install catboost\n",
        "import numpy as np\n",
        "import pandas as pd\n",
        "import sklearn\n",
        "import xgboost as xgb\n",
        "from xgboost import XGBRegressor\n",
        "from catboost import CatBoostRegressor\n",
        "from sklearn.model_selection import train_test_split\n",
        "from sklearn.model_selection import GridSearchCV\n",
        "from sklearn.experimental import enable_iterative_imputer\n",
        "from sklearn.impute import IterativeImputer\n",
        "from sklearn.metrics import r2_score\n",
        "import pickle"
      ],
      "execution_count": 35,
      "outputs": [
        {
          "output_type": "stream",
          "text": [
            "Requirement already satisfied: catboost in /usr/local/lib/python3.7/dist-packages (0.24.4)\n",
            "Requirement already satisfied: plotly in /usr/local/lib/python3.7/dist-packages (from catboost) (4.4.1)\n",
            "Requirement already satisfied: pandas>=0.24.0 in /usr/local/lib/python3.7/dist-packages (from catboost) (1.1.5)\n",
            "Requirement already satisfied: six in /usr/local/lib/python3.7/dist-packages (from catboost) (1.15.0)\n",
            "Requirement already satisfied: matplotlib in /usr/local/lib/python3.7/dist-packages (from catboost) (3.2.2)\n",
            "Requirement already satisfied: graphviz in /usr/local/lib/python3.7/dist-packages (from catboost) (0.10.1)\n",
            "Requirement already satisfied: numpy>=1.16.0 in /usr/local/lib/python3.7/dist-packages (from catboost) (1.19.5)\n",
            "Requirement already satisfied: scipy in /usr/local/lib/python3.7/dist-packages (from catboost) (1.4.1)\n",
            "Requirement already satisfied: retrying>=1.3.3 in /usr/local/lib/python3.7/dist-packages (from plotly->catboost) (1.3.3)\n",
            "Requirement already satisfied: python-dateutil>=2.7.3 in /usr/local/lib/python3.7/dist-packages (from pandas>=0.24.0->catboost) (2.8.1)\n",
            "Requirement already satisfied: pytz>=2017.2 in /usr/local/lib/python3.7/dist-packages (from pandas>=0.24.0->catboost) (2018.9)\n",
            "Requirement already satisfied: cycler>=0.10 in /usr/local/lib/python3.7/dist-packages (from matplotlib->catboost) (0.10.0)\n",
            "Requirement already satisfied: pyparsing!=2.0.4,!=2.1.2,!=2.1.6,>=2.0.1 in /usr/local/lib/python3.7/dist-packages (from matplotlib->catboost) (2.4.7)\n",
            "Requirement already satisfied: kiwisolver>=1.0.1 in /usr/local/lib/python3.7/dist-packages (from matplotlib->catboost) (1.3.1)\n"
          ],
          "name": "stdout"
        }
      ]
    },
    {
      "cell_type": "code",
      "metadata": {
        "id": "1dLh40iKVWXy"
      },
      "source": [
        "data = pd.read_csv('predict.csv')\n",
        "data.dropna(subset=['c5'], inplace=True)\n",
        "target = data['c5']\n",
        "data.drop(['c5'], axis='columns', inplace=True)"
      ],
      "execution_count": 36,
      "outputs": []
    },
    {
      "cell_type": "code",
      "metadata": {
        "colab": {
          "base_uri": "https://localhost:8080/",
          "height": 241
        },
        "id": "xOQkEA5BY7OV",
        "outputId": "9f5a7d8a-a257-4050-810e-b6212a7bd6f3"
      },
      "source": [
        "nan_rate = {f'{column}' : data[column].isna().sum() / len(data[column]) for column in data.columns}\n",
        "print(nan_rate)\n",
        "drop_thresholder = 0.3\n",
        "columns_to_drop = [k for k, v in nan_rate.items() if v > drop_thresholder]\n",
        "data.drop(columns_to_drop, axis='columns', inplace=True)\n",
        "data.head()"
      ],
      "execution_count": 37,
      "outputs": [
        {
          "output_type": "stream",
          "text": [
            "{'recency': 0.0, 'topic_rank': 0.0, 'diversity': 0.0, 'authors_mean_rank': 0.012526096033402923, 'authors_mean_hindex': 0.012526096033402923, 'authors_mean_gindex': 0.012526096033402923, 'authors_mean_sociality': 0.012526096033402923, 'authors_mean_pagerank': 1.0, 'authors_mean_productivity': 1.0, 'journal_pagerank': 1.0, 'journal_rank': 0.081419624217119, 'title_len': 0.0, 'abstract_len': 0.0, 'n_authors': 0.0, 'log_authors_mean_sociality': 0.012526096033402923}\n"
          ],
          "name": "stdout"
        },
        {
          "output_type": "execute_result",
          "data": {
            "text/html": [
              "<div>\n",
              "<style scoped>\n",
              "    .dataframe tbody tr th:only-of-type {\n",
              "        vertical-align: middle;\n",
              "    }\n",
              "\n",
              "    .dataframe tbody tr th {\n",
              "        vertical-align: top;\n",
              "    }\n",
              "\n",
              "    .dataframe thead th {\n",
              "        text-align: right;\n",
              "    }\n",
              "</style>\n",
              "<table border=\"1\" class=\"dataframe\">\n",
              "  <thead>\n",
              "    <tr style=\"text-align: right;\">\n",
              "      <th></th>\n",
              "      <th>recency</th>\n",
              "      <th>topic_rank</th>\n",
              "      <th>diversity</th>\n",
              "      <th>authors_mean_rank</th>\n",
              "      <th>authors_mean_hindex</th>\n",
              "      <th>authors_mean_gindex</th>\n",
              "      <th>authors_mean_sociality</th>\n",
              "      <th>journal_rank</th>\n",
              "      <th>title_len</th>\n",
              "      <th>abstract_len</th>\n",
              "      <th>n_authors</th>\n",
              "      <th>log_authors_mean_sociality</th>\n",
              "    </tr>\n",
              "  </thead>\n",
              "  <tbody>\n",
              "    <tr>\n",
              "      <th>0</th>\n",
              "      <td>16</td>\n",
              "      <td>1.0</td>\n",
              "      <td>-0.425436</td>\n",
              "      <td>500.0</td>\n",
              "      <td>1.0</td>\n",
              "      <td>1.0</td>\n",
              "      <td>6.0</td>\n",
              "      <td>101.0</td>\n",
              "      <td>66</td>\n",
              "      <td>1653</td>\n",
              "      <td>7</td>\n",
              "      <td>1.945910</td>\n",
              "    </tr>\n",
              "    <tr>\n",
              "      <th>1</th>\n",
              "      <td>8</td>\n",
              "      <td>7.0</td>\n",
              "      <td>-0.571967</td>\n",
              "      <td>134.0</td>\n",
              "      <td>1.0</td>\n",
              "      <td>1.0</td>\n",
              "      <td>6.0</td>\n",
              "      <td>24.0</td>\n",
              "      <td>59</td>\n",
              "      <td>1527</td>\n",
              "      <td>7</td>\n",
              "      <td>1.945910</td>\n",
              "    </tr>\n",
              "    <tr>\n",
              "      <th>2</th>\n",
              "      <td>15</td>\n",
              "      <td>19.0</td>\n",
              "      <td>-0.859644</td>\n",
              "      <td>235.0</td>\n",
              "      <td>1.0</td>\n",
              "      <td>1.0</td>\n",
              "      <td>5.0</td>\n",
              "      <td>49.0</td>\n",
              "      <td>169</td>\n",
              "      <td>1554</td>\n",
              "      <td>6</td>\n",
              "      <td>1.791759</td>\n",
              "    </tr>\n",
              "    <tr>\n",
              "      <th>3</th>\n",
              "      <td>6</td>\n",
              "      <td>4.0</td>\n",
              "      <td>-1.054999</td>\n",
              "      <td>1124.0</td>\n",
              "      <td>1.0</td>\n",
              "      <td>1.0</td>\n",
              "      <td>10.0</td>\n",
              "      <td>185.0</td>\n",
              "      <td>130</td>\n",
              "      <td>2121</td>\n",
              "      <td>11</td>\n",
              "      <td>2.397895</td>\n",
              "    </tr>\n",
              "    <tr>\n",
              "      <th>4</th>\n",
              "      <td>14</td>\n",
              "      <td>2.0</td>\n",
              "      <td>-0.476697</td>\n",
              "      <td>346.0</td>\n",
              "      <td>1.0</td>\n",
              "      <td>1.0</td>\n",
              "      <td>2.0</td>\n",
              "      <td>72.0</td>\n",
              "      <td>100</td>\n",
              "      <td>432</td>\n",
              "      <td>3</td>\n",
              "      <td>1.098612</td>\n",
              "    </tr>\n",
              "  </tbody>\n",
              "</table>\n",
              "</div>"
            ],
            "text/plain": [
              "   recency  topic_rank  ...  n_authors  log_authors_mean_sociality\n",
              "0       16         1.0  ...          7                    1.945910\n",
              "1        8         7.0  ...          7                    1.945910\n",
              "2       15        19.0  ...          6                    1.791759\n",
              "3        6         4.0  ...         11                    2.397895\n",
              "4       14         2.0  ...          3                    1.098612\n",
              "\n",
              "[5 rows x 12 columns]"
            ]
          },
          "metadata": {
            "tags": []
          },
          "execution_count": 37
        }
      ]
    },
    {
      "cell_type": "code",
      "metadata": {
        "id": "rSHCNL5il3EU"
      },
      "source": [
        "imputer = IterativeImputer(random_state=42)\n",
        "cols = data.columns\n",
        "data = pd.DataFrame(imputer.fit_transform(data), columns=cols)\n",
        "with open('imputer_dump.pkl', 'wb') as imp_dump:\n",
        "    pickle.dump(imputer, imp_dump)"
      ],
      "execution_count": 38,
      "outputs": []
    },
    {
      "cell_type": "markdown",
      "metadata": {
        "id": "unhcIKiEmNwu"
      },
      "source": [
        "**Train**"
      ]
    },
    {
      "cell_type": "code",
      "metadata": {
        "id": "e1BRzLY-YEHD"
      },
      "source": [
        "train_part = 0.8\n",
        "train_size = int(train_part * len(data))\n",
        "X_train, X_val, Y_train, Y_val = train_test_split(data, target, train_size=train_size, random_state=42)\n",
        "\n"
      ],
      "execution_count": 5,
      "outputs": []
    },
    {
      "cell_type": "code",
      "metadata": {
        "id": "1G40fzk2Dgy6"
      },
      "source": [
        "#def get_best_xgbreg_model(X_train, Y_train, model_parameters, scoring='r2', verbose=False):\n",
        "    #reg = GridSearchCV(model, model_parameters, scoring=scoring, n_jobs=-1, verbose=verbose)\n",
        "    #reg.fit(X_train, Y_train)\n",
        "    #return reg.best_estimator_"
      ],
      "execution_count": 6,
      "outputs": []
    },
    {
      "cell_type": "code",
      "metadata": {
        "colab": {
          "base_uri": "https://localhost:8080/"
        },
        "id": "6PqLDZDTIc6S",
        "outputId": "2c71a4c8-a799-42d2-b2bd-1896c995bfae"
      },
      "source": [
        "#print(reg.best_estimator_.score(X_val, Y_val))"
      ],
      "execution_count": 165,
      "outputs": [
        {
          "output_type": "stream",
          "text": [
            "0.9252498109381974\n"
          ],
          "name": "stdout"
        }
      ]
    },
    {
      "cell_type": "code",
      "metadata": {
        "id": "tSKO67eZJOOw"
      },
      "source": [
        "model_params = {\n",
        "    'learning_rate' : 0.16,\n",
        "    'max_depth' : 3,\n",
        "    'n_estimators' : 80, \n",
        "    'objective' : 'reg:squarederror', \n",
        "}"
      ],
      "execution_count": 30,
      "outputs": []
    },
    {
      "cell_type": "code",
      "metadata": {
        "colab": {
          "base_uri": "https://localhost:8080/"
        },
        "id": "iI6XITz3-ORp",
        "outputId": "e701f840-0cea-4598-d6ba-9ffde807f111"
      },
      "source": [
        "model = XGBRegressor(**model_params)\n",
        "model.fit(X_train, Y_train,\n",
        "          eval_set=[(X_val, Y_val)],\n",
        "         )\n",
        "\n",
        "model.score(X_val, Y_val)"
      ],
      "execution_count": 26,
      "outputs": [
        {
          "output_type": "stream",
          "text": [
            "[0]\tvalidation_0-rmse:13.0056\n",
            "[1]\tvalidation_0-rmse:12.4335\n",
            "[2]\tvalidation_0-rmse:11.7659\n",
            "[3]\tvalidation_0-rmse:10.9175\n",
            "[4]\tvalidation_0-rmse:9.9664\n",
            "[5]\tvalidation_0-rmse:9.03892\n",
            "[6]\tvalidation_0-rmse:8.30704\n",
            "[7]\tvalidation_0-rmse:7.55188\n",
            "[8]\tvalidation_0-rmse:7.24996\n",
            "[9]\tvalidation_0-rmse:6.7225\n",
            "[10]\tvalidation_0-rmse:6.17761\n",
            "[11]\tvalidation_0-rmse:6.1143\n",
            "[12]\tvalidation_0-rmse:5.64964\n",
            "[13]\tvalidation_0-rmse:5.52612\n",
            "[14]\tvalidation_0-rmse:5.23322\n",
            "[15]\tvalidation_0-rmse:4.96746\n",
            "[16]\tvalidation_0-rmse:4.68541\n",
            "[17]\tvalidation_0-rmse:4.48229\n",
            "[18]\tvalidation_0-rmse:4.42872\n",
            "[19]\tvalidation_0-rmse:4.33312\n",
            "[20]\tvalidation_0-rmse:4.29421\n",
            "[21]\tvalidation_0-rmse:4.15052\n",
            "[22]\tvalidation_0-rmse:4.10705\n",
            "[23]\tvalidation_0-rmse:4.05143\n",
            "[24]\tvalidation_0-rmse:3.99292\n",
            "[25]\tvalidation_0-rmse:3.99096\n",
            "[26]\tvalidation_0-rmse:3.97541\n",
            "[27]\tvalidation_0-rmse:3.88744\n",
            "[28]\tvalidation_0-rmse:3.85695\n",
            "[29]\tvalidation_0-rmse:3.77581\n",
            "[30]\tvalidation_0-rmse:3.72263\n",
            "[31]\tvalidation_0-rmse:3.73786\n",
            "[32]\tvalidation_0-rmse:3.71008\n",
            "[33]\tvalidation_0-rmse:3.68071\n",
            "[34]\tvalidation_0-rmse:3.69425\n",
            "[35]\tvalidation_0-rmse:3.67836\n",
            "[36]\tvalidation_0-rmse:3.67093\n",
            "[37]\tvalidation_0-rmse:3.65133\n",
            "[38]\tvalidation_0-rmse:3.64159\n",
            "[39]\tvalidation_0-rmse:3.64023\n",
            "[40]\tvalidation_0-rmse:3.6395\n",
            "[41]\tvalidation_0-rmse:3.63845\n",
            "[42]\tvalidation_0-rmse:3.62585\n",
            "[43]\tvalidation_0-rmse:3.57267\n",
            "[44]\tvalidation_0-rmse:3.56501\n",
            "[45]\tvalidation_0-rmse:3.58121\n",
            "[46]\tvalidation_0-rmse:3.58211\n",
            "[47]\tvalidation_0-rmse:3.57322\n",
            "[48]\tvalidation_0-rmse:3.5678\n",
            "[49]\tvalidation_0-rmse:3.57049\n",
            "[50]\tvalidation_0-rmse:3.57939\n",
            "[51]\tvalidation_0-rmse:3.59874\n",
            "[52]\tvalidation_0-rmse:3.58277\n",
            "[53]\tvalidation_0-rmse:3.58243\n",
            "[54]\tvalidation_0-rmse:3.57574\n",
            "[55]\tvalidation_0-rmse:3.55136\n",
            "[56]\tvalidation_0-rmse:3.52499\n",
            "[57]\tvalidation_0-rmse:3.52456\n",
            "[58]\tvalidation_0-rmse:3.52394\n",
            "[59]\tvalidation_0-rmse:3.52137\n",
            "[60]\tvalidation_0-rmse:3.51627\n",
            "[61]\tvalidation_0-rmse:3.52358\n",
            "[62]\tvalidation_0-rmse:3.52253\n",
            "[63]\tvalidation_0-rmse:3.53239\n",
            "[64]\tvalidation_0-rmse:3.54121\n",
            "[65]\tvalidation_0-rmse:3.53341\n",
            "[66]\tvalidation_0-rmse:3.53748\n",
            "[67]\tvalidation_0-rmse:3.53377\n",
            "[68]\tvalidation_0-rmse:3.53259\n",
            "[69]\tvalidation_0-rmse:3.53077\n",
            "[70]\tvalidation_0-rmse:3.53044\n",
            "[71]\tvalidation_0-rmse:3.53037\n",
            "[72]\tvalidation_0-rmse:3.54052\n",
            "[73]\tvalidation_0-rmse:3.5344\n",
            "[74]\tvalidation_0-rmse:3.53515\n",
            "[75]\tvalidation_0-rmse:3.53504\n",
            "[76]\tvalidation_0-rmse:3.53914\n",
            "[77]\tvalidation_0-rmse:3.5271\n",
            "[78]\tvalidation_0-rmse:3.53851\n",
            "[79]\tvalidation_0-rmse:3.53623\n"
          ],
          "name": "stdout"
        },
        {
          "output_type": "execute_result",
          "data": {
            "text/plain": [
              "0.9252498109381974"
            ]
          },
          "metadata": {
            "tags": []
          },
          "execution_count": 26
        }
      ]
    }
  ]
}